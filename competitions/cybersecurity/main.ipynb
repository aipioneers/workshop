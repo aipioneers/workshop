{
 "cells": [
  {
   "cell_type": "code",
   "execution_count": 4,
   "metadata": {},
   "outputs": [],
   "source": [
    "import msgpack\n",
    "import pandas as pd"
   ]
  },
  {
   "cell_type": "code",
   "execution_count": 2,
   "metadata": {},
   "outputs": [],
   "source": [
    "with open('./data/train.msgpack', 'rb') as data_file:\n",
    "    train = msgpack.unpack(data_file)"
   ]
  },
  {
   "cell_type": "code",
   "execution_count": 3,
   "metadata": {},
   "outputs": [],
   "source": [
    "with open('./data/test.msgpack', 'rb') as data_file:\n",
    "    test = msgpack.unpack(data_file)"
   ]
  },
  {
   "cell_type": "code",
   "execution_count": 5,
   "metadata": {},
   "outputs": [],
   "source": [
    "train = pd.DataFrame(train)\n",
    "test = pd.DataFrame(test)\n",
    "train.columns = ['id', 'text']\n",
    "test.columns = ['id', 'text']"
   ]
  },
  {
   "cell_type": "code",
   "execution_count": 6,
   "metadata": {},
   "outputs": [
    {
     "data": {
      "text/plain": [
       "array([[59290,\n",
       "        \"' and/**/38>( select\\t(622)/**/from/*362 emhgpv gpnqdn odpxkn qgnoyb */htipaw)\"],\n",
       "       [54992,\n",
       "        'shqpkt\" union /*!426 all\\t*/(select kwicwt(\\t(\\tyaaoda\\t()), (236), (konjlq()),  619, nyknas ()), byamlo (), \\txfsesf( (\\tdqoyrp()), (sbecbl()), (\\tlhnjpg()), (kkicjp()), (udkygv()), hoewxv\\t()))'],\n",
       "       [64287,\n",
       "        'nhnqag\" uniondistinct--154 298 plhlre exaloq unyote \\r(select (rpfeir#15 256 15 rttlat 66 gsjxjq 44 819 \\r()), kuoopt(), (#\\rvxhuha), (116), (--kfbvww 193 \\r\"mkhkjq\"), 271, (omqjmj), gvdira--\\r((--\\r325), --mcrgew oqrhwp jhseux 55 xpayss 88 \\rfctnjs (), (794), 3, #58 14 114 vdqoyq \\r\\'apxkvx\\', (\\tmhjblm())), #yxnynl \\r\"lllpue\"/**/from#\\rexample.example)'],\n",
       "       [28821, 'D8j+oNbylTIGw='],\n",
       "       [27825,\n",
       "        'ened \\\\\">\\\\n  <head>\\\\n    <script data-react-helmet=\\\\\"true\\\\\" type=\\\\\"text/javascript\\\\\">(function(w...<some bytes>....getTime(),event:\\'example.example\\'});var f=d.getElementsByTag...<some bytes>...re(j,f);\\\\n    })(window,document,\\'script\\',\\'dataLayer\\',\\'GTM...<some bytes>...ype=\\\\\"text/javascript\\\\\" src=\\\\\"//example.example.co...<some bytes>...\"async\\\\\"></script>\\\\n    <meta charset=\\\\\"utf-6\\\\\">\\\\...<some bytes>...g\\\\\" />\\\\n    <link rel=\\\\\"stylesheet\\\\\" href=\\\\\"/static/css/main....<some bytes>...example.example\\\\\" />\\\\n    <title data-react-helmet=\\\\\"true...<some bytes>...    <script type=\\\\\"text/javascript\\\\\">\\\\n         ...<some bytes>...75-36T78:49:47.238Z\\\\\",\\\\\"location\\\\\":{\\\\\"hash\\\\\":\\\\\"\\\\...<some bytes>...></span></a><div class=\\\\\"drop\\\\\" data-reactid=\\\\\"55...<some bytes>...\\\\\"centered-title green2-style\\\\\" data-reactid=\\\\\"6...<some bytes>... data-reactid=\\\\\"428\\\\\"><!-- react-empty: 133 --><'],\n",
       "       [74446, '\" union/*M!719 */'],\n",
       "       [71873,\n",
       "        '194 union#93 yguxsk 669 393 \\r\\tselect\\t\\texlgjh(), cirwsi((\\t616), (#\\r\\'qbtidf\\'), (#\\r\\'xhqujm\\'), (\"xwfefv\"), /*523 87 jvxefn rfkgml rpkpyn 42 eacbcl 627 */267, (\"xfofsu\"), (311), (\\t\\'ciadln\\'), \\'fhsunl\\'), purljs(), isakxn( (959), --oorhfc \\r42, #\\rbchwnn#\\r(), ktbbku(), (\\'aflkgq\\'), (hwdrpd())), (qxaslw(--16 574 rwgwov xcaoca 448 ntwgbk 653 \\r--521 gwqebq 869 frtumq 1 482 jeetey wnonvn \\r65, #\\r752, #\\rvyarfb(), lxodwk(), 971))'],\n",
       "       [87153,\n",
       "        '/example.example?%7Cmeta%82http-equiv=Set-Cookie%59content=%11testizfx=5232%28%6E'],\n",
       "       [76096, '\"  /*M!union*/'],\n",
       "       [42354,\n",
       "        '/handler_sync_example.example?i=j4sR/mhZpekzcpKcC5cUoFHo5e42TQeA6YzVZuR3mhhuaivOgsA/oncCkpo=']],\n",
       "      dtype=object)"
      ]
     },
     "execution_count": 6,
     "metadata": {},
     "output_type": "execute_result"
    }
   ],
   "source": [
    "train.head(10).values"
   ]
  },
  {
   "cell_type": "code",
   "execution_count": 7,
   "metadata": {},
   "outputs": [],
   "source": [
    "train['text'] = train['text'].astype(str)\n",
    "test['text'] = test['text'].astype(str)"
   ]
  },
  {
   "cell_type": "code",
   "execution_count": 8,
   "metadata": {},
   "outputs": [
    {
     "ename": "NameError",
     "evalue": "name 'TfidfVectorizer' is not defined",
     "output_type": "error",
     "traceback": [
      "\u001b[0;31m---------------------------------------------------------------------------\u001b[0m",
      "\u001b[0;31mNameError\u001b[0m                                 Traceback (most recent call last)",
      "\u001b[0;32m/var/folders/84/6vx8lc2j0qx9grccw3440b6r0000gq/T/ipykernel_21787/899301868.py\u001b[0m in \u001b[0;36m<module>\u001b[0;34m\u001b[0m\n\u001b[0;32m----> 1\u001b[0;31m \u001b[0mvectorizer\u001b[0m \u001b[0;34m=\u001b[0m \u001b[0mTfidfVectorizer\u001b[0m\u001b[0;34m(\u001b[0m\u001b[0mngram_range\u001b[0m\u001b[0;34m=\u001b[0m\u001b[0;34m(\u001b[0m\u001b[0;36m1\u001b[0m\u001b[0;34m,\u001b[0m \u001b[0;36m4\u001b[0m\u001b[0;34m)\u001b[0m\u001b[0;34m,\u001b[0m \u001b[0manalyzer\u001b[0m\u001b[0;34m=\u001b[0m\u001b[0;34m'char'\u001b[0m\u001b[0;34m)\u001b[0m\u001b[0;34m\u001b[0m\u001b[0;34m\u001b[0m\u001b[0m\n\u001b[0m\u001b[1;32m      2\u001b[0m \u001b[0mfull_text\u001b[0m \u001b[0;34m=\u001b[0m \u001b[0mlist\u001b[0m\u001b[0;34m(\u001b[0m\u001b[0mtrain\u001b[0m\u001b[0;34m[\u001b[0m\u001b[0;34m'text'\u001b[0m\u001b[0;34m]\u001b[0m\u001b[0;34m.\u001b[0m\u001b[0mvalues\u001b[0m\u001b[0;34m)\u001b[0m \u001b[0;34m+\u001b[0m \u001b[0mlist\u001b[0m\u001b[0;34m(\u001b[0m\u001b[0mtest\u001b[0m\u001b[0;34m[\u001b[0m\u001b[0;34m'text'\u001b[0m\u001b[0;34m]\u001b[0m\u001b[0;34m.\u001b[0m\u001b[0mvalues\u001b[0m\u001b[0;34m)\u001b[0m\u001b[0;34m\u001b[0m\u001b[0;34m\u001b[0m\u001b[0m\n\u001b[1;32m      3\u001b[0m \u001b[0mvectorizer\u001b[0m\u001b[0;34m.\u001b[0m\u001b[0mfit\u001b[0m\u001b[0;34m(\u001b[0m\u001b[0mfull_text\u001b[0m\u001b[0;34m)\u001b[0m\u001b[0;34m\u001b[0m\u001b[0;34m\u001b[0m\u001b[0m\n\u001b[1;32m      4\u001b[0m \u001b[0mtrain_vectorized\u001b[0m \u001b[0;34m=\u001b[0m \u001b[0mvectorizer\u001b[0m\u001b[0;34m.\u001b[0m\u001b[0mtransform\u001b[0m\u001b[0;34m(\u001b[0m\u001b[0mtrain\u001b[0m\u001b[0;34m[\u001b[0m\u001b[0;34m'text'\u001b[0m\u001b[0;34m]\u001b[0m\u001b[0;34m)\u001b[0m\u001b[0;34m\u001b[0m\u001b[0;34m\u001b[0m\u001b[0m\n\u001b[1;32m      5\u001b[0m \u001b[0mtest_vectorized\u001b[0m \u001b[0;34m=\u001b[0m \u001b[0mvectorizer\u001b[0m\u001b[0;34m.\u001b[0m\u001b[0mtransform\u001b[0m\u001b[0;34m(\u001b[0m\u001b[0mtest\u001b[0m\u001b[0;34m[\u001b[0m\u001b[0;34m'text'\u001b[0m\u001b[0;34m]\u001b[0m\u001b[0;34m)\u001b[0m\u001b[0;34m\u001b[0m\u001b[0;34m\u001b[0m\u001b[0m\n",
      "\u001b[0;31mNameError\u001b[0m: name 'TfidfVectorizer' is not defined"
     ]
    }
   ],
   "source": [
    "vectorizer = TfidfVectorizer(ngram_range=(1, 4), analyzer='char')\n",
    "full_text = list(train['text'].values) + list(test['text'].values)\n",
    "vectorizer.fit(full_text)\n",
    "train_vectorized = vectorizer.transform(train['text'])\n",
    "test_vectorized = vectorizer.transform(test['text'])"
   ]
  },
  {
   "cell_type": "code",
   "execution_count": null,
   "metadata": {},
   "outputs": [],
   "source": []
  }
 ],
 "metadata": {
  "interpreter": {
   "hash": "949777d72b0d2535278d3dc13498b2535136f6dfe0678499012e853ee9abcab1"
  },
  "kernelspec": {
   "display_name": "Python 3.9.10 64-bit",
   "language": "python",
   "name": "python3"
  },
  "language_info": {
   "codemirror_mode": {
    "name": "ipython",
    "version": 3
   },
   "file_extension": ".py",
   "mimetype": "text/x-python",
   "name": "python",
   "nbconvert_exporter": "python",
   "pygments_lexer": "ipython3",
   "version": "3.9.10"
  },
  "orig_nbformat": 4
 },
 "nbformat": 4,
 "nbformat_minor": 2
}
